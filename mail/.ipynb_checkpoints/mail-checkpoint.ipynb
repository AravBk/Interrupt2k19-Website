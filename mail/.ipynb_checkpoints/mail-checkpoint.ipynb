{
 "cells": [
  {
   "cell_type": "code",
   "execution_count": 3,
   "metadata": {},
   "outputs": [
    {
     "ename": "ModuleNotFoundError",
     "evalue": "No module named 'psycopg2'",
     "output_type": "error",
     "traceback": [
      "\u001b[0;31m---------------------------------------------------------------------------\u001b[0m",
      "\u001b[0;31mModuleNotFoundError\u001b[0m                       Traceback (most recent call last)",
      "\u001b[0;32m<ipython-input-3-11d9356c975d>\u001b[0m in \u001b[0;36m<module>\u001b[0;34m\u001b[0m\n\u001b[1;32m      6\u001b[0m \u001b[0;34m\u001b[0m\u001b[0m\n\u001b[1;32m      7\u001b[0m \u001b[0;31m#import for postgres\u001b[0m\u001b[0;34m\u001b[0m\u001b[0;34m\u001b[0m\u001b[0;34m\u001b[0m\u001b[0m\n\u001b[0;32m----> 8\u001b[0;31m \u001b[0;32mimport\u001b[0m \u001b[0mpsycopg2\u001b[0m \u001b[0;32mas\u001b[0m \u001b[0mpsy\u001b[0m\u001b[0;34m\u001b[0m\u001b[0;34m\u001b[0m\u001b[0m\n\u001b[0m\u001b[1;32m      9\u001b[0m \u001b[0;34m\u001b[0m\u001b[0m\n\u001b[1;32m     10\u001b[0m \u001b[0;31m# qr code imports\u001b[0m\u001b[0;34m\u001b[0m\u001b[0;34m\u001b[0m\u001b[0;34m\u001b[0m\u001b[0m\n",
      "\u001b[0;31mModuleNotFoundError\u001b[0m: No module named 'psycopg2'"
     ]
    }
   ],
   "source": [
    "import os\n",
    "\n",
    "# email\n",
    "import smtplib\n",
    "from email.message import EmailMessage\n",
    "\n",
    "#import for postgres\n",
    "import psycopg2 as psy\n",
    "\n",
    "# qr code imports\n",
    "import pyqrcode \n",
    "from pyqrcode import QRCode \n",
    "import imghdr\n",
    "#(dload pypng to convert to png)\n",
    "\n",
    "import matplotlib.pyplot as plt\n",
    "import matplotlib.image as img\n",
    "%matplotlib inline"
   ]
  },
  {
   "cell_type": "code",
   "execution_count": 2,
   "metadata": {},
   "outputs": [],
   "source": [
    "email_id = os.environ.get('EMAIL_ID')\n",
    "email_pwd = os.environ.get('EMAIL_PWD')\n",
    "dbuser=os.environ.get('PSQL_USER')\n",
    "dbpwd=os.environ.get('PSQL_PWD')"
   ]
  },
  {
   "cell_type": "code",
   "execution_count": 3,
   "metadata": {},
   "outputs": [],
   "source": [
    "# using email module\n",
    "def send_mail(user, pwd,msg):\n",
    "    try:\n",
    "\n",
    "        server_ssl = smtplib.SMTP_SSL(\"smtp.gmail.com\", 465)\n",
    "        server_ssl.ehlo()\n",
    "        server_ssl.login(user,pwd)  \n",
    "        server_ssl.send_message(msg)\n",
    "        server_ssl.close()\n",
    "        print('successfully sent the mail')\n",
    "    except:\n",
    "        print(\"failed to send mail\")"
   ]
  },
  {
   "cell_type": "code",
   "execution_count": 4,
   "metadata": {
    "scrolled": true
   },
   "outputs": [
    {
     "ename": "OperationalError",
     "evalue": "could not connect to server: No such file or directory\n\tIs the server running locally and accepting\n\tconnections on Unix domain socket \"/tmp/.s.PGSQL.5432\"?\n",
     "output_type": "error",
     "traceback": [
      "\u001b[0;31m---------------------------------------------------------------------------\u001b[0m",
      "\u001b[0;31mOperationalError\u001b[0m                          Traceback (most recent call last)",
      "\u001b[0;32m<ipython-input-4-73599c6650f3>\u001b[0m in \u001b[0;36m<module>\u001b[0;34m\u001b[0m\n\u001b[0;32m----> 1\u001b[0;31m \u001b[0mconn\u001b[0m \u001b[0;34m=\u001b[0m \u001b[0mpsy\u001b[0m\u001b[0;34m.\u001b[0m\u001b[0mconnect\u001b[0m\u001b[0;34m(\u001b[0m\u001b[0mport\u001b[0m\u001b[0;34m=\u001b[0m\u001b[0;36m5432\u001b[0m\u001b[0;34m,\u001b[0m\u001b[0mdatabase\u001b[0m\u001b[0;34m=\u001b[0m\u001b[0;34m'interrupt'\u001b[0m\u001b[0;34m,\u001b[0m\u001b[0muser\u001b[0m\u001b[0;34m=\u001b[0m\u001b[0mdbuser\u001b[0m\u001b[0;34m,\u001b[0m\u001b[0mpassword\u001b[0m\u001b[0;34m=\u001b[0m\u001b[0mdbpwd\u001b[0m\u001b[0;34m)\u001b[0m\u001b[0;34m\u001b[0m\u001b[0;34m\u001b[0m\u001b[0m\n\u001b[0m\u001b[1;32m      2\u001b[0m \u001b[0mcur\u001b[0m \u001b[0;34m=\u001b[0m \u001b[0mconn\u001b[0m\u001b[0;34m.\u001b[0m\u001b[0mcursor\u001b[0m\u001b[0;34m(\u001b[0m\u001b[0;34m)\u001b[0m\u001b[0;34m\u001b[0m\u001b[0;34m\u001b[0m\u001b[0m\n\u001b[1;32m      3\u001b[0m \u001b[0;32mtry\u001b[0m\u001b[0;34m:\u001b[0m\u001b[0;34m\u001b[0m\u001b[0;34m\u001b[0m\u001b[0m\n\u001b[1;32m      4\u001b[0m \u001b[0;34m\u001b[0m\u001b[0m\n\u001b[1;32m      5\u001b[0m \u001b[0;31m#     ------------------------------------welcome-----------------------------\u001b[0m\u001b[0;34m\u001b[0m\u001b[0;34m\u001b[0m\u001b[0;34m\u001b[0m\u001b[0m\n",
      "\u001b[0;32m~/anaconda3/envs/my_env/lib/python3.6/site-packages/psycopg2/__init__.py\u001b[0m in \u001b[0;36mconnect\u001b[0;34m(dsn, connection_factory, cursor_factory, **kwargs)\u001b[0m\n\u001b[1;32m    128\u001b[0m \u001b[0;34m\u001b[0m\u001b[0m\n\u001b[1;32m    129\u001b[0m     \u001b[0mdsn\u001b[0m \u001b[0;34m=\u001b[0m \u001b[0m_ext\u001b[0m\u001b[0;34m.\u001b[0m\u001b[0mmake_dsn\u001b[0m\u001b[0;34m(\u001b[0m\u001b[0mdsn\u001b[0m\u001b[0;34m,\u001b[0m \u001b[0;34m**\u001b[0m\u001b[0mkwargs\u001b[0m\u001b[0;34m)\u001b[0m\u001b[0;34m\u001b[0m\u001b[0;34m\u001b[0m\u001b[0m\n\u001b[0;32m--> 130\u001b[0;31m     \u001b[0mconn\u001b[0m \u001b[0;34m=\u001b[0m \u001b[0m_connect\u001b[0m\u001b[0;34m(\u001b[0m\u001b[0mdsn\u001b[0m\u001b[0;34m,\u001b[0m \u001b[0mconnection_factory\u001b[0m\u001b[0;34m=\u001b[0m\u001b[0mconnection_factory\u001b[0m\u001b[0;34m,\u001b[0m \u001b[0;34m**\u001b[0m\u001b[0mkwasync\u001b[0m\u001b[0;34m)\u001b[0m\u001b[0;34m\u001b[0m\u001b[0;34m\u001b[0m\u001b[0m\n\u001b[0m\u001b[1;32m    131\u001b[0m     \u001b[0;32mif\u001b[0m \u001b[0mcursor_factory\u001b[0m \u001b[0;32mis\u001b[0m \u001b[0;32mnot\u001b[0m \u001b[0;32mNone\u001b[0m\u001b[0;34m:\u001b[0m\u001b[0;34m\u001b[0m\u001b[0;34m\u001b[0m\u001b[0m\n\u001b[1;32m    132\u001b[0m         \u001b[0mconn\u001b[0m\u001b[0;34m.\u001b[0m\u001b[0mcursor_factory\u001b[0m \u001b[0;34m=\u001b[0m \u001b[0mcursor_factory\u001b[0m\u001b[0;34m\u001b[0m\u001b[0;34m\u001b[0m\u001b[0m\n",
      "\u001b[0;31mOperationalError\u001b[0m: could not connect to server: No such file or directory\n\tIs the server running locally and accepting\n\tconnections on Unix domain socket \"/tmp/.s.PGSQL.5432\"?\n"
     ]
    }
   ],
   "source": [
    "conn = psy.connect(port=5432,database='interrupt',user=dbuser,password=dbpwd)\n",
    "cur = conn.cursor()\n",
    "try:\n",
    "    \n",
    "#     ------------------------------------welcome-----------------------------\n",
    "    cur.execute(\"select reg.id,reg.student_name,reg.email,reg.ph_number from reg,mail where reg.id=mail.id and mail.welcome=0;\")\n",
    "    rows = cur.fetchall()\n",
    "    if(len(rows)==0):\n",
    "        print('nil')\n",
    "    for row in rows:\n",
    "        row = list(row)\n",
    "        msg = EmailMessage()\n",
    "        msg['Subject'] = \"SVCE-INTERRUPT 2K19 | welcome\"\n",
    "        msg['From'] = email_id\n",
    "        msg['To'] = row[2]\n",
    "        msg.set_content(\"Hello \" + row[1] +\", this is a sample email.Send me the db schmema da macha.\")\n",
    "        s = \"\\n\".join(list(map(str,row)))\n",
    "        qr = pyqrcode.create(s,mode='binary')\n",
    "        qr.png(\"qr.png\",scale=4,background=[0xff, 0xff, 0xff])\n",
    "        \n",
    "        # show qr code\n",
    "        image = img.imread('qr.png')\n",
    "        plt.imshow(image)\n",
    "        \n",
    "        # -------------- to add attachments ----------------\n",
    "        with open('qr.png','rb') as f:\n",
    "            msg.add_attachment(f.read(),filename=f.name,maintype='image',subtype=imghdr.what(f.name))\n",
    "        # send mail\n",
    "        send_mail(email_id,email_pwd,msg)\n",
    "        print('welcome mails are sent')\n",
    "        \n",
    "# ---------------------------------interrupt challenge--------------------------------\n",
    "    cur.execute(\"select reg.id,reg.student_name,reg.email,reg.ph_number from reg,mail where reg.id=mail.id and mail.challenge=0;\")\n",
    "    rows = cur.fetchall()\n",
    "    if(len(rows)==0):\n",
    "        print('nil')\n",
    "    for row in rows:\n",
    "        row = list(row)\n",
    "#         print(row)\n",
    "        msg = EmailMessage()\n",
    "        msg['Subject'] = \"SVCE-INTERRUPT 2K19 | Event\"\n",
    "        msg['From'] = email_id\n",
    "        msg['To'] = row[2]\n",
    "        msg.set_content(\"Hello \" + row[1] +\", you have enrolled for the interrupt challenge.\")\n",
    "        # send mail\n",
    "        send_mail(email_id,email_pwd,msg)\n",
    "        print('Interrupt Challenge mails are sent')\n",
    "    \n",
    "    #     ----------------------------------------- some other event template -------------------------------\n",
    "    \n",
    "    cur.execute(\"select reg.id,reg.student_name,reg.email,reg.ph_number from reg,mail where reg.id=mail.id and mail.event=0;\")\n",
    "    rows = cur.fetchall()\n",
    "    if(len(rows)==0):\n",
    "        print('nil')\n",
    "    for row in rows:\n",
    "        row = list(row)\n",
    "#         print(row)\n",
    "        msg = EmailMessage()\n",
    "        msg['Subject'] = \"SVCE-INTERRUPT 2K19 | Event\"\n",
    "        msg['From'] = email_id\n",
    "        msg['To'] = row[2]\n",
    "        msg.set_content(\"Hello \" + row[1] +\", you have enrolled for the interrupt challenge.\")\n",
    "        # send mail\n",
    "        send_mail(email_id,email_pwd,msg)\n",
    "        print('xyz mails are sent')\n",
    "    \n",
    "#     close the connection\n",
    "    cur.close()\n",
    "    conn.close()\n",
    "            \n",
    "except:\n",
    "    print('You have messed up somewhere')\n",
    "    \n",
    "\n",
    "\n",
    "    "
   ]
  },
  {
   "cell_type": "code",
   "execution_count": null,
   "metadata": {},
   "outputs": [],
   "source": [
    "# recipients = [\"shriramgobu@gmail.com\"]\n",
    "# msg = EmailMessage()\n",
    "# msg['Subject'] = \"SVCE-INTERRUPT 2K19\"\n",
    "# msg['From'] = email_id\n",
    "# msg['To'] = recipients\n",
    "# msg.set_content('Hello Shravan, this is a sample email.Send me the db schmema da macha.')\n",
    "# name = 'Shravan'"
   ]
  },
  {
   "cell_type": "code",
   "execution_count": null,
   "metadata": {},
   "outputs": [],
   "source": [
    "# ----- uncomment and edit to send html like content -----\n",
    "# msg.add_alternative(\"\"\"\\\n",
    "# <!DOCTYPE html>\n",
    "# <html>\n",
    "#     <body>\n",
    "#         <h1 id=\"text\" style=\"color:SlateGray;\"></h1>\n",
    "#     </body>\n",
    "# </html>\n",
    "# \"\"\", subtype='html')"
   ]
  },
  {
   "cell_type": "code",
   "execution_count": 6,
   "metadata": {},
   "outputs": [],
   "source": [
    "# create a qr code\n",
    "\n",
    "str =\" hello\"\n",
    "qr = pyqrcode.create(str,mode='binary')"
   ]
  },
  {
   "cell_type": "code",
   "execution_count": 7,
   "metadata": {},
   "outputs": [],
   "source": [
    "# convert qr into png\n",
    "qr.png(\"qr.png\",scale=4,background=[0xff, 0xff, 0xff])\n",
    "qr.show()"
   ]
  },
  {
   "cell_type": "code",
   "execution_count": 8,
   "metadata": {},
   "outputs": [
    {
     "data": {
      "text/plain": [
       "<matplotlib.image.AxesImage at 0x7f895be5ad30>"
      ]
     },
     "execution_count": 8,
     "metadata": {},
     "output_type": "execute_result"
    },
    {
     "data": {
      "image/png": "[encoded data removed]",
      "text/plain": [
       "<Figure size 432x288 with 1 Axes>"
      ]
     },
     "metadata": {
      "needs_background": "light"
     },
     "output_type": "display_data"
    }
   ],
   "source": [
    "# show qr code\n",
    "import matplotlib.pyplot as plt\n",
    "import matplotlib.image as img\n",
    "%matplotlib inline\n",
    "image = img.imread('qr.png')\n",
    "plt.imshow(image)\n"
   ]
  },
  {
   "cell_type": "code",
   "execution_count": null,
   "metadata": {},
   "outputs": [],
   "source": [
    "# # -------------- to add attachments ----------------\n",
    "# with open('qr.png','rb') as f:\n",
    "#     msg.add_attachment(f.read(),filename=f.name,maintype='image',subtype=imghdr.what(f.name))"
   ]
  },
  {
   "cell_type": "code",
   "execution_count": null,
   "metadata": {},
   "outputs": [],
   "source": [
    "# # send mail\n",
    "# send_mail(email_id,email_pwd,msg)"
   ]
  }
 ],
 "metadata": {
  "kernelspec": {
   "display_name": "Python 3",
   "language": "python",
   "name": "python3"
  },
  "language_info": {
   "codemirror_mode": {
    "name": "ipython",
    "version": 3
   },
   "file_extension": ".py",
   "mimetype": "text/x-python",
   "name": "python",
   "nbconvert_exporter": "python",
   "pygments_lexer": "ipython3",
   "version": "3.6.8"
  }
 },
 "nbformat": 4,
 "nbformat_minor": 2
}
